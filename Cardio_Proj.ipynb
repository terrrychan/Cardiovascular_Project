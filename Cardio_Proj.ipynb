{
 "cells": [
  {
   "cell_type": "code",
   "execution_count": null,
   "metadata": {
    "collapsed": true
   },
   "outputs": [],
   "source": [
    "print(\"Hello World!\")"
   ]
  },
  {
   "cell_type": "code",
   "execution_count": null,
   "metadata": {
    "collapsed": true
   },
   "outputs": [],
   "source": [
    "import scipy.io as sio\n",
    "from scipy import signal\n",
    "import matplotlib.pyplot as plt\n",
    "import numpy as np\n",
    "import cv2\n",
    "\n",
    "import io\n",
    "import base64\n",
    "from IPython.display import HTML"
   ]
  },
  {
   "cell_type": "code",
   "execution_count": null,
   "metadata": {
    "collapsed": true
   },
   "outputs": [],
   "source": [
    "### play as a html video ### \n",
    "\n",
    "video = io.open(r'C:\\Users\\Terence\\Dropbox\\breathing-A.MOV', 'r+b').read()\n",
    "encoded = base64.b64encode(video)\n",
    "HTML(data='''<video alt=\"test\" controls>\n",
    "                <source src=\"data:video/mp4;base64,{0}\" type=\"video/mp4\" />\n",
    "             </video>'''.format(encoded.decode('ascii')))"
   ]
  },
  {
   "cell_type": "code",
   "execution_count": null,
   "metadata": {
    "collapsed": true
   },
   "outputs": [],
   "source": [
    "### Print different ways to read in data\n",
    "\n",
    "temp = dir(cv2)\n",
    "#print(temp)\n",
    "type(temp)\n",
    "\n",
    "# for index in temp:\n",
    "#     string = index\n",
    "#     if string.startswith( 'COLOR' ):\n",
    "#         print(string)\n",
    "        "
   ]
  },
  {
   "cell_type": "code",
   "execution_count": null,
   "metadata": {
    "collapsed": true
   },
   "outputs": [],
   "source": [
    "cap = cv2.VideoCapture(r'C:\\Users\\Terence\\Dropbox\\breathing-A.MOV')\n",
    "\n",
    "### Print the properties of cap/cv2.VideoCapture\n",
    "# print(type(cap))\n",
    "# dir(cap)\n",
    "\n",
    "\n",
    "## Double check if this works! ##\n",
    "(major_ver, minor_ver, subminor_ver) = (cv2.__version__).split('.')\n",
    "     \n",
    "if int(major_ver)  < 3 :\n",
    "    fps = cap.get(cv2.cv.CV_CAP_PROP_FPS)\n",
    "    print(\"1\")\n",
    "    print(format(fps))\n",
    "else :\n",
    "    fps = cap.get(cv2.CAP_PROP_FPS)\n",
    "    print(\"2\")\n",
    "    length = cap.get(cv2.CAP_PROP_FRAME_COUNT)\n",
    "    print(format(length))\n",
    "    print(format(fps))\n",
    "    actual_length = length/fps/60\n",
    "    print(actual_length)\n",
    "    print(cap.get(cv2.CAP_PROP_FRAME_WIDTH))\n",
    "    \n",
    "cap.release(); \n",
    "\n",
    "# CV_CAP_PROP_FRAME_WIDTH and FRAME_LENGTH and FRAME_HEIGHT\n",
    "# CV_CAP_PROP_FPS Frame rate.\n",
    "# CV_CAP_PROP_FOURCC 4-character code of codec.\n",
    "# CV_CAP_PROP_FRAME_COUNT Number of frames in the video file."
   ]
  },
  {
   "cell_type": "code",
   "execution_count": null,
   "metadata": {
    "collapsed": true
   },
   "outputs": [],
   "source": [
    "### opens a new window ### \n",
    "\n",
    "import cv2\n",
    "cap = cv2.VideoCapture(r'C:\\Users\\Terence\\Dropbox\\breathing-A.MOV')\n",
    "import matplotlib.pyplot as plt\n",
    "\n",
    "while(cap.isOpened()):\n",
    "    \n",
    "    ret, frame = cap.read()\n",
    "    gray = cv2.cvtColor(frame, cv2.COLOR_BGR2GRAY)\n",
    "    \n",
    "    points = (50,100),(200,200)\n",
    "    radius = 10\n",
    "    color = (255, 0, 0)\n",
    "        \n",
    "        \n",
    "    cv2.putText(gray, \"DRUGS\", color = (255,0,0))\n",
    "    \n",
    "    for index in range(len(points)):\n",
    "        int1,int2 = points[index]\n",
    "        cv2.circle(gray, (int1,incenter,radius, color, 3)\n",
    "    \n",
    "    cv2.imshow('frame',gray) ### imshow uses another window\n",
    "#     img = plt.imshow(gray)\n",
    "#     plt.show()\n",
    "    \n",
    "    \n",
    "#     plt.imshow(frame)\n",
    "#     plt.plot([100,100],'or')\n",
    "\n",
    "#     print(gray)\n",
    "#     print('\\n')\n",
    "    \n",
    "#     print(gray.shape)\n",
    "#     print('\\n')\n",
    "    \n",
    "#     gray_fft = np.fft.fft(gray)\n",
    "#     print('\\n')\n",
    "    \n",
    "#     size1 = gray.shape[0]  ### get the number of rows --- replace gray_fft with tracked features\n",
    "#     newarray = np.zeros((size1,1)) ###  initialize empty array\n",
    "#     for index in range(size1):\n",
    "#         gray_fft = np.fft.fft(gray[[index],:])\n",
    "#         newarray = np.sum([newarray,twoarray],axis = 1) # axis = 1 is adding the rows together \n",
    "#     final_fft = newarray / size1\n",
    "\n",
    "    ### f_legend = camFR*(0:nFrames/2-1)/nFrames;\n",
    "    \n",
    "#     break ### break to loop only once to test \n",
    "    if cv2.waitKey(1) & 0xFF == ord('q'): ### Play around with waitkey(#) to play faster/slower\n",
    "        break\n",
    "\n",
    "cap.release()\n",
    "cv2.destroyAllWindows()"
   ]
  },
  {
   "cell_type": "code",
   "execution_count": 38,
   "metadata": {
    "collapsed": false
   },
   "outputs": [
    {
     "name": "stdout",
     "output_type": "stream",
     "text": [
      "[[11]]\n"
     ]
    },
    {
     "name": "stderr",
     "output_type": "stream",
     "text": [
      "C:\\Users\\Terence\\Anaconda3\\lib\\site-packages\\scipy\\io\\matlab\\mio.py:135: MatReadWarning: Duplicate variable name \"None\" in stream - replacing previous with new\n",
      "Consider mio5.varmats_from_mat to split file into single variable files\n",
      "  matfile_dict = MR.get_variables(variable_names)\n"
     ]
    },
    {
     "data": {
      "text/plain": [
       "(300000, 1)"
      ]
     },
     "execution_count": 38,
     "metadata": {},
     "output_type": "execute_result"
    }
   ],
   "source": [
    "contents = sio.loadmat(r'C:\\Users\\Terence\\Dropbox\\breathing-A.mat')\n",
    "temp = contents['f']\n",
    "print((temp+1))\n",
    "contents\n",
    "\n",
    "data = contents['data']\n",
    "time = contents['t']\n",
    "time = np.transpose(time)\n",
    "data.shape\n"
   ]
  },
  {
   "cell_type": "code",
   "execution_count": 73,
   "metadata": {
    "collapsed": false
   },
   "outputs": [],
   "source": [
    "\n",
    "### MATLAB-style IIR filter design ### \n",
    "# Using a IIR lowpass filter \n",
    "\n",
    "### Implement something like this to better list out frequencies?\n",
    "# N = 10 # N -- order\n",
    "# cutoff = 2 # Cutoff Freq\n",
    "# fs = 30000 # Sampling frequnecy\n",
    "# nyq = 0.5 * fs\n",
    "# Wn = cutoff / nyq\n",
    "\n",
    "N, Wn = signal.buttord(0.0005, 5, 3, 40, False)\n",
    "b,a = signal.butter(N, Wn, 'low', analog= False) # order of the filter, 0.5, low pass, digitalfilter\n",
    "\n",
    "filtered_signal = signal.filtfilt(b,a, np.transpose(data)) # no phase distortion\n",
    "filtered_signal = np.transpose(filtered_signal)\n",
    "\n",
    "# plt.clf()\n",
    "# plt.subplot(2, 1, 1)\n",
    "# plt.subplot(2, 1, 2)\n",
    "\n",
    "plt.plot(time,data, color = 'silver',label = 'raw')\n",
    "plt.plot(time,filtered_signal, color = 'black', label = 'Original')\n",
    "\n",
    "# plot properties\n",
    "plt.xlabel('Time [s]')\n",
    "plt.ylabel('ECG Magnitude [v]')\n",
    "\n",
    "\n",
    "plt.show()\n",
    "\n",
    "# print(\"works!\")"
   ]
  }
 ],
 "metadata": {
  "kernelspec": {
   "display_name": "Python 3",
   "language": "python",
   "name": "python3"
  },
  "language_info": {
   "codemirror_mode": {
    "name": "ipython",
    "version": 3
   },
   "file_extension": ".py",
   "mimetype": "text/x-python",
   "name": "python",
   "nbconvert_exporter": "python",
   "pygments_lexer": "ipython3",
   "version": "3.5.1"
  }
 },
 "nbformat": 4,
 "nbformat_minor": 0
}
